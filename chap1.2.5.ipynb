{
 "cells": [
  {
   "cell_type": "markdown",
   "id": "48bad5c6-74e3-4ab3-b77c-1f8f71328402",
   "metadata": {},
   "source": [
    "## chap1.2.5"
   ]
  },
  {
   "cell_type": "code",
   "execution_count": 1,
   "id": "a90b0fb1-3686-4dd6-9564-10811274f6be",
   "metadata": {},
   "outputs": [],
   "source": [
    "import cv2\n",
    "import numpy as np"
   ]
  },
  {
   "cell_type": "code",
   "execution_count": 2,
   "id": "0498b3ba-c5b3-47ae-a57b-fa1ee73b197e",
   "metadata": {},
   "outputs": [],
   "source": [
    "def nothing(x):\n",
    "    pass"
   ]
  },
  {
   "cell_type": "code",
   "execution_count": 3,
   "id": "1e539a57-edf0-42e8-bdcb-1c1ad6b0bbf5",
   "metadata": {},
   "outputs": [],
   "source": [
    "img = np.zeros((300,512,3), np.uint8)\n",
    "cv2.namedWindow('image')"
   ]
  },
  {
   "cell_type": "code",
   "execution_count": 4,
   "id": "1fd93516-a4f2-4687-be7b-ea2b2fbbc833",
   "metadata": {},
   "outputs": [],
   "source": [
    "cv2.createTrackbar('R','image',0,255,nothing)\n",
    "cv2.createTrackbar('G','image',0,255,nothing)\n",
    "cv2.createTrackbar('B','image',0,255,nothing)"
   ]
  },
  {
   "cell_type": "code",
   "execution_count": 5,
   "id": "f25b696f-d937-4b1c-a613-294ca8634fe8",
   "metadata": {},
   "outputs": [],
   "source": [
    "switch = '0 : OFF \\n1 : ON'\n",
    "cv2.createTrackbar(switch, 'image',0,1,nothing)"
   ]
  },
  {
   "cell_type": "code",
   "execution_count": 6,
   "id": "97c9c7b1-a064-4446-8c5c-59bd1c67fc21",
   "metadata": {},
   "outputs": [],
   "source": [
    "while(1):\n",
    "    cv2.imshow('image',img)\n",
    "    k = cv2.waitKey(1) & 0xFF\n",
    "    if k == 27:\n",
    "        break\n",
    "    # get current positions of four trackbars\n",
    "    r = cv2.getTrackbarPos('R','image')\n",
    "    g = cv2.getTrackbarPos('G','image')\n",
    "    b = cv2.getTrackbarPos('B','image')\n",
    "    s = cv2.getTrackbarPos(switch,'image')\n",
    "    \n",
    "    if s == 0:\n",
    "        img[:] = 0\n",
    "    else:\n",
    "        img[:] = [b,g,r]\n",
    "        \n",
    "cv2.destroyAllWindows()"
   ]
  }
 ],
 "metadata": {
  "kernelspec": {
   "display_name": "Python 3",
   "language": "python",
   "name": "python3"
  },
  "language_info": {
   "codemirror_mode": {
    "name": "ipython",
    "version": 3
   },
   "file_extension": ".py",
   "mimetype": "text/x-python",
   "name": "python",
   "nbconvert_exporter": "python",
   "pygments_lexer": "ipython3",
   "version": "3.9.4"
  }
 },
 "nbformat": 4,
 "nbformat_minor": 5
}
