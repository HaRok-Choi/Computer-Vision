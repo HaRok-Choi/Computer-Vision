{
 "cells": [
  {
   "cell_type": "code",
   "execution_count": 1,
   "id": "3a4df563-591f-4462-84e8-8657ba33a589",
   "metadata": {},
   "outputs": [],
   "source": [
    "# 20171615 최하록"
   ]
  },
  {
   "cell_type": "markdown",
   "id": "933f6fc9-16f9-42e7-91a3-b2c01f687e09",
   "metadata": {},
   "source": [
    "## HW6"
   ]
  },
  {
   "cell_type": "code",
   "execution_count": 2,
   "id": "0ba60413-d085-4d85-9a9e-75f4bad08c2d",
   "metadata": {},
   "outputs": [],
   "source": [
    "import numpy as np\n",
    "import cv2\n",
    "from matplotlib import pyplot as plt"
   ]
  },
  {
   "cell_type": "code",
   "execution_count": 3,
   "id": "620ebb8b-58f7-4551-a681-4d6c15fab43f",
   "metadata": {},
   "outputs": [
    {
     "data": {
      "text/plain": [
       "-1"
      ]
     },
     "execution_count": 3,
     "metadata": {},
     "output_type": "execute_result"
    }
   ],
   "source": [
    "MIN_MATCH_COUNT = 10\n",
    "FLANN_INDEX_KDTREE = 0\n",
    "K = 2\n",
    "\n",
    "index_params = dict(algorithm = FLANN_INDEX_KDTREE, trees = 5)\n",
    "search_params = dict(checks = 50)\n",
    "\n",
    "template = cv2.imread('Temple.jpg', 0)\n",
    "cap = cv2.VideoCapture(0)\n",
    "\n",
    "cv2.namedWindow('image')\n",
    "cv2.createTrackbar('Threshold', 'image', 0, 100, lambda x: None)\n",
    "cv2.setTrackbarPos('Threshold', 'image', 60)\n",
    "\n",
    "sift = cv2.SIFT_create()\n",
    "flann = cv2.FlannBasedMatcher(index_params, search_params)\n",
    "\n",
    "while cap.isOpened():\n",
    "    ret, frame = cap.read()\n",
    "    \n",
    "    threshold = cv2.getTrackbarPos('Threshold','image') / 100.0\n",
    "\n",
    "    gray = cv2.cvtColor(frame, cv2.COLOR_BGR2GRAY)\n",
    "    \n",
    "    kp1, des1 = sift.detectAndCompute(gray, None)\n",
    "    kp2, des2 = sift.detectAndCompute(template, None)\n",
    "    \n",
    "    matches = flann.knnMatch(des1, des2, k=K)\n",
    "    good = [m for (m, n) in matches if (m.distance < threshold * n.distance)]\n",
    "    \n",
    "    matchesMask = None\n",
    "            \n",
    "    if len(good) > MIN_MATCH_COUNT:\n",
    "        src_pts = np.float32([ kp1[m.queryIdx].pt for m in good ]).reshape(-1, 1, 2)\n",
    "        dst_pts = np.float32([ kp2[m.trainIdx].pt for m in good ]).reshape(-1, 1, 2)\n",
    "        \n",
    "        M, mask = cv2.findHomography(src_pts, dst_pts, cv2.RANSAC, 5.0)\n",
    "        matchesMask = mask.ravel().tolist()\n",
    "        \n",
    "        h,w = gray.shape\n",
    "        \n",
    "        pts = np.float32([[0, 0], [0, h-1], [w-1, h-1], [w-1, 0] ]).reshape(-1, 1, 2)\n",
    "        dst = cv2.perspectiveTransform(pts, M)\n",
    "        gray = cv2.polylines(gray, [np.int32(dst)], True, 255, 3, cv2.LINE_AA)\n",
    "        \n",
    "    draw_params = dict(matchColor = (0, 0, 255), singlePointColor = None, matchesMask = matchesMask, flags = 2)\n",
    "    result = cv2.drawMatches(gray, kp1, template, kp2, good, None, **draw_params)\n",
    "\n",
    "    cv2.imshow(\"image\", result)\n",
    "\n",
    "    if cv2.waitKey(40) & 0xFF == ord('s'):\n",
    "        break\n",
    "\n",
    "cap.release()\n",
    "cv2.destroyAllWindows()\n",
    "cv2.waitKey(1)"
   ]
  },
  {
   "cell_type": "code",
   "execution_count": 4,
   "id": "1ac851e4-2384-42eb-ad35-bec9f20f24fa",
   "metadata": {},
   "outputs": [
    {
     "data": {
      "text/plain": [
       "-1"
      ]
     },
     "execution_count": 4,
     "metadata": {},
     "output_type": "execute_result"
    }
   ],
   "source": [
    "cap.release()\n",
    "cv2.destroyAllWindows()\n",
    "cv2.waitKey(1)"
   ]
  },
  {
   "cell_type": "code",
   "execution_count": 1,
   "id": "b2baea64-475d-4616-b29f-7c6ba02b2001",
   "metadata": {},
   "outputs": [],
   "source": [
    "# 고생많으셨습니다! 교수님!"
   ]
  }
 ],
 "metadata": {
  "kernelspec": {
   "display_name": "Python 3",
   "language": "python",
   "name": "python3"
  },
  "language_info": {
   "codemirror_mode": {
    "name": "ipython",
    "version": 3
   },
   "file_extension": ".py",
   "mimetype": "text/x-python",
   "name": "python",
   "nbconvert_exporter": "python",
   "pygments_lexer": "ipython3",
   "version": "3.9.4"
  }
 },
 "nbformat": 4,
 "nbformat_minor": 5
}
