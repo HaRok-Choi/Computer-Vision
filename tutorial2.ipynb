{
 "cells": [
  {
   "cell_type": "code",
   "execution_count": 2,
   "id": "51b0e175",
   "metadata": {},
   "outputs": [],
   "source": [
    "li = ['abc', 23, 4.34, 23]"
   ]
  },
  {
   "cell_type": "code",
   "execution_count": 3,
   "id": "bbfdf4cf",
   "metadata": {},
   "outputs": [],
   "source": [
    "li[1] = 45"
   ]
  },
  {
   "cell_type": "code",
   "execution_count": 4,
   "id": "54f4a799",
   "metadata": {},
   "outputs": [
    {
     "data": {
      "text/plain": [
       "['abc', 45, 4.34, 23]"
      ]
     },
     "execution_count": 4,
     "metadata": {},
     "output_type": "execute_result"
    }
   ],
   "source": [
    "li"
   ]
  },
  {
   "cell_type": "code",
   "execution_count": 5,
   "id": "80e797f1",
   "metadata": {},
   "outputs": [],
   "source": [
    "li[1] = 45"
   ]
  },
  {
   "cell_type": "code",
   "execution_count": null,
   "id": "a8b07c6a",
   "metadata": {},
   "outputs": [],
   "source": []
  },
  {
   "cell_type": "code",
   "execution_count": 6,
   "id": "0c14f509",
   "metadata": {},
   "outputs": [
    {
     "data": {
      "text/plain": [
       "['abc', 45, 4.34, 23]"
      ]
     },
     "execution_count": 6,
     "metadata": {},
     "output_type": "execute_result"
    }
   ],
   "source": [
    "li"
   ]
  },
  {
   "cell_type": "code",
   "execution_count": 7,
   "id": "865e3af0",
   "metadata": {},
   "outputs": [],
   "source": [
    "t = (23, 'abc', 4.56, (2,3), 'def')"
   ]
  },
  {
   "cell_type": "code",
   "execution_count": 8,
   "id": "8804a60e",
   "metadata": {},
   "outputs": [
    {
     "ename": "TypeError",
     "evalue": "'tuple' object does not support item assignment",
     "output_type": "error",
     "traceback": [
      "\u001b[1;31m---------------------------------------------------------------------------\u001b[0m",
      "\u001b[1;31mTypeError\u001b[0m                                 Traceback (most recent call last)",
      "\u001b[1;32m<ipython-input-8-0c5a1fd0e648>\u001b[0m in \u001b[0;36m<module>\u001b[1;34m\u001b[0m\n\u001b[1;32m----> 1\u001b[1;33m \u001b[0mt\u001b[0m\u001b[1;33m[\u001b[0m\u001b[1;36m2\u001b[0m\u001b[1;33m]\u001b[0m \u001b[1;33m=\u001b[0m \u001b[1;36m3.14\u001b[0m\u001b[1;33m\u001b[0m\u001b[1;33m\u001b[0m\u001b[0m\n\u001b[0m",
      "\u001b[1;31mTypeError\u001b[0m: 'tuple' object does not support item assignment"
     ]
    }
   ],
   "source": [
    "t[2] = 3.14"
   ]
  },
  {
   "cell_type": "code",
   "execution_count": 9,
   "id": "bd8f71ba",
   "metadata": {},
   "outputs": [],
   "source": [
    "t = (23, 'abc', 3.14, (2,3), 'def')"
   ]
  },
  {
   "cell_type": "code",
   "execution_count": 10,
   "id": "74604585",
   "metadata": {},
   "outputs": [],
   "source": [
    "li = [1, 11, 3, 4, 5]"
   ]
  },
  {
   "cell_type": "markdown",
   "id": "e9a938e8",
   "metadata": {},
   "source": []
  },
  {
   "cell_type": "code",
   "execution_count": 11,
   "id": "279643eb",
   "metadata": {},
   "outputs": [],
   "source": [
    "li.append('a') # Note the method syntax"
   ]
  },
  {
   "cell_type": "code",
   "execution_count": 12,
   "id": "c907dae4",
   "metadata": {},
   "outputs": [
    {
     "data": {
      "text/plain": [
       "[1, 11, 3, 4, 5, 'a']"
      ]
     },
     "execution_count": 12,
     "metadata": {},
     "output_type": "execute_result"
    }
   ],
   "source": [
    "li"
   ]
  },
  {
   "cell_type": "code",
   "execution_count": 14,
   "id": "a5945f6a",
   "metadata": {},
   "outputs": [],
   "source": [
    "li.insert(2,'i')"
   ]
  },
  {
   "cell_type": "code",
   "execution_count": 15,
   "id": "32a18f2a",
   "metadata": {},
   "outputs": [
    {
     "data": {
      "text/plain": [
       "[1, 11, 'i', 3, 4, 5, 'a']"
      ]
     },
     "execution_count": 15,
     "metadata": {},
     "output_type": "execute_result"
    }
   ],
   "source": [
    "li"
   ]
  },
  {
   "cell_type": "code",
   "execution_count": 16,
   "id": "d6b2b787",
   "metadata": {},
   "outputs": [],
   "source": [
    "li.extend([9, 8, 7])"
   ]
  },
  {
   "cell_type": "code",
   "execution_count": 17,
   "id": "c7f6e31e",
   "metadata": {},
   "outputs": [
    {
     "data": {
      "text/plain": [
       "[1, 11, 'i', 3, 4, 5, 'a', 9, 8, 7]"
      ]
     },
     "execution_count": 17,
     "metadata": {},
     "output_type": "execute_result"
    }
   ],
   "source": [
    "li"
   ]
  },
  {
   "cell_type": "code",
   "execution_count": 18,
   "id": "e7968733",
   "metadata": {},
   "outputs": [],
   "source": [
    "li.append([10, 11, 12])"
   ]
  },
  {
   "cell_type": "code",
   "execution_count": 19,
   "id": "b191d493",
   "metadata": {},
   "outputs": [
    {
     "data": {
      "text/plain": [
       "[1, 11, 'i', 3, 4, 5, 'a', 9, 8, 7, [10, 11, 12]]"
      ]
     },
     "execution_count": 19,
     "metadata": {},
     "output_type": "execute_result"
    }
   ],
   "source": [
    "li"
   ]
  },
  {
   "cell_type": "code",
   "execution_count": 20,
   "id": "14f07ab4",
   "metadata": {},
   "outputs": [],
   "source": [
    "li = ['a', 'b', 'c', 'b']"
   ]
  },
  {
   "cell_type": "code",
   "execution_count": 21,
   "id": "c33d417f",
   "metadata": {},
   "outputs": [
    {
     "data": {
      "text/plain": [
       "1"
      ]
     },
     "execution_count": 21,
     "metadata": {},
     "output_type": "execute_result"
    }
   ],
   "source": [
    "li.index('b') # index of first occurrence*"
   ]
  },
  {
   "cell_type": "code",
   "execution_count": 22,
   "id": "f1991a96",
   "metadata": {},
   "outputs": [
    {
     "data": {
      "text/plain": [
       "2"
      ]
     },
     "execution_count": 22,
     "metadata": {},
     "output_type": "execute_result"
    }
   ],
   "source": [
    "li.count('b') # number of occurrences"
   ]
  },
  {
   "cell_type": "code",
   "execution_count": 23,
   "id": "2a8aab53",
   "metadata": {},
   "outputs": [],
   "source": [
    "li.remove('b') # remove first occurrence"
   ]
  },
  {
   "cell_type": "code",
   "execution_count": null,
   "id": "c76fb4f8",
   "metadata": {},
   "outputs": [],
   "source": []
  },
  {
   "cell_type": "code",
   "execution_count": 24,
   "id": "c4b11bfb",
   "metadata": {},
   "outputs": [
    {
     "data": {
      "text/plain": [
       "['a', 'c', 'b']"
      ]
     },
     "execution_count": 24,
     "metadata": {},
     "output_type": "execute_result"
    }
   ],
   "source": [
    "li"
   ]
  },
  {
   "cell_type": "code",
   "execution_count": 35,
   "id": "e1cf7097",
   "metadata": {},
   "outputs": [],
   "source": [
    "li = [5, 2, 6, 8]"
   ]
  },
  {
   "cell_type": "code",
   "execution_count": 36,
   "id": "0c8bb29f",
   "metadata": {},
   "outputs": [],
   "source": [
    "li.reverse() # reverse the list *in place*"
   ]
  },
  {
   "cell_type": "code",
   "execution_count": 37,
   "id": "8c9bc4d8",
   "metadata": {},
   "outputs": [
    {
     "data": {
      "text/plain": [
       "[8, 6, 2, 5]"
      ]
     },
     "execution_count": 37,
     "metadata": {},
     "output_type": "execute_result"
    }
   ],
   "source": [
    "li"
   ]
  },
  {
   "cell_type": "code",
   "execution_count": 38,
   "id": "c6a759ad",
   "metadata": {},
   "outputs": [],
   "source": [
    "li.sort() # sort the list *in place*"
   ]
  },
  {
   "cell_type": "code",
   "execution_count": 39,
   "id": "a02f5586",
   "metadata": {},
   "outputs": [
    {
     "data": {
      "text/plain": [
       "[2, 5, 6, 8]"
      ]
     },
     "execution_count": 39,
     "metadata": {},
     "output_type": "execute_result"
    }
   ],
   "source": [
    "li"
   ]
  },
  {
   "cell_type": "code",
   "execution_count": null,
   "id": "ba6ab2e5",
   "metadata": {},
   "outputs": [],
   "source": []
  },
  {
   "cell_type": "code",
   "execution_count": null,
   "id": "7ec2c87b",
   "metadata": {},
   "outputs": [],
   "source": []
  }
 ],
 "metadata": {
  "kernelspec": {
   "display_name": "Python 3",
   "language": "python",
   "name": "python3"
  },
  "language_info": {
   "codemirror_mode": {
    "name": "ipython",
    "version": 3
   },
   "file_extension": ".py",
   "mimetype": "text/x-python",
   "name": "python",
   "nbconvert_exporter": "python",
   "pygments_lexer": "ipython3",
   "version": "3.8.8"
  }
 },
 "nbformat": 4,
 "nbformat_minor": 5
}
