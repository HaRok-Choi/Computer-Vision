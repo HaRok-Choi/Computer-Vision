{
 "cells": [
  {
   "cell_type": "markdown",
   "id": "c326a14f-24d8-4036-89a2-f8811ab7f7bf",
   "metadata": {},
   "source": [
    "## chap 1.3.2"
   ]
  },
  {
   "cell_type": "code",
   "execution_count": 1,
   "id": "5808d5f4-29b6-455c-ac2c-de921ff4fb5a",
   "metadata": {},
   "outputs": [],
   "source": [
    "import cv2\n",
    "import numpy as np\n",
    "from matplotlib import pyplot as plt"
   ]
  },
  {
   "cell_type": "code",
   "execution_count": 2,
   "id": "93cb6d1d-bbac-45da-a19a-85f572445ff3",
   "metadata": {},
   "outputs": [
    {
     "data": {
      "text/plain": [
       "260"
      ]
     },
     "execution_count": 2,
     "metadata": {},
     "output_type": "execute_result"
    }
   ],
   "source": [
    "x = 250\n",
    "y = 10\n",
    "x + y"
   ]
  },
  {
   "cell_type": "code",
   "execution_count": 3,
   "id": "40cb76a7-764a-448b-a3aa-d535d648e723",
   "metadata": {},
   "outputs": [],
   "source": [
    "x = np.uint8([250])"
   ]
  },
  {
   "cell_type": "code",
   "execution_count": 4,
   "id": "826ba1f3-8af9-4858-8bd5-fe7be03401b8",
   "metadata": {},
   "outputs": [
    {
     "data": {
      "text/plain": [
       "array([250], dtype=uint8)"
      ]
     },
     "execution_count": 4,
     "metadata": {},
     "output_type": "execute_result"
    }
   ],
   "source": [
    "x"
   ]
  },
  {
   "cell_type": "code",
   "execution_count": 5,
   "id": "477aa857-7471-4f5d-a04b-000bf3906829",
   "metadata": {},
   "outputs": [
    {
     "data": {
      "text/plain": [
       "array([4], dtype=uint8)"
      ]
     },
     "execution_count": 5,
     "metadata": {},
     "output_type": "execute_result"
    }
   ],
   "source": [
    "x + y"
   ]
  },
  {
   "cell_type": "code",
   "execution_count": 6,
   "id": "5619e97c-d2eb-4f55-913c-5c8bc1b674e8",
   "metadata": {},
   "outputs": [
    {
     "data": {
      "text/plain": [
       "array([[255]], dtype=uint8)"
      ]
     },
     "execution_count": 6,
     "metadata": {},
     "output_type": "execute_result"
    }
   ],
   "source": [
    "cv2.add(x, y)"
   ]
  },
  {
   "cell_type": "code",
   "execution_count": 7,
   "id": "b7f2a61f-673d-4d19-ae56-f0f7e6b97b63",
   "metadata": {},
   "outputs": [],
   "source": [
    "img1 = cv2.imread('test1.png')\n",
    "img2 = cv2.imread('test2.png')"
   ]
  },
  {
   "cell_type": "code",
   "execution_count": null,
   "id": "3296ae04-efda-440b-b452-0f14180801eb",
   "metadata": {},
   "outputs": [],
   "source": [
    "w = 0.5\n",
    "dst = cv2.addWeighted(img1,w,img2,1-w,0)\n",
    "cv2.imshow('dst',dst)\n",
    "cv2.waitKey(0)\n",
    "cv2.destroytAllWindows()"
   ]
  },
  {
   "cell_type": "code",
   "execution_count": null,
   "id": "4575f235-afc7-45d2-b977-6783428969b4",
   "metadata": {},
   "outputs": [],
   "source": [
    "def nothing(x):\n",
    "    pass"
   ]
  },
  {
   "cell_type": "code",
   "execution_count": null,
   "id": "93be1f96-7bb5-457b-ad17-850402f88625",
   "metadata": {},
   "outputs": [],
   "source": [
    "w = 0.5\n",
    "cv2.namedWindow('image')\n",
    "cv2.createTrackbar('weight', 'image',0,255,nothing)\n",
    "\n",
    "while True:\n",
    "    if cv2.waitKey(2) & 0xFF == 27:\n",
    "        break\n",
    "    weight = cv2.getTrackbarPos('weight', 'image')    \n",
    "    dst = cv2.addWeighted(img1,weight/255,img2,1-weight/255,0)\n",
    "    cv2.imshow('image',dst)\n",
    "\n",
    "cv2.destroyAllWindows()"
   ]
  },
  {
   "cell_type": "code",
   "execution_count": null,
   "id": "842331c4-cf6c-4e74-99cb-2114a25dce7a",
   "metadata": {},
   "outputs": [],
   "source": []
  }
 ],
 "metadata": {
  "kernelspec": {
   "display_name": "Python 3",
   "language": "python",
   "name": "python3"
  },
  "language_info": {
   "codemirror_mode": {
    "name": "ipython",
    "version": 3
   },
   "file_extension": ".py",
   "mimetype": "text/x-python",
   "name": "python",
   "nbconvert_exporter": "python",
   "pygments_lexer": "ipython3",
   "version": "3.9.4"
  }
 },
 "nbformat": 4,
 "nbformat_minor": 5
}
