{
 "cells": [
  {
   "cell_type": "code",
   "execution_count": 1,
   "id": "c3a1c7f9-c38c-4848-98f9-2135f2f1d438",
   "metadata": {},
   "outputs": [],
   "source": [
    "## 20171615 최하록"
   ]
  },
  {
   "cell_type": "markdown",
   "id": "7d5c3bb4-9e74-4255-a64b-73cca3257a47",
   "metadata": {},
   "source": [
    "## chap 1.6.2"
   ]
  },
  {
   "cell_type": "code",
   "execution_count": 2,
   "id": "16725a72-0443-49ae-9d0c-a2bbe7e80a1c",
   "metadata": {},
   "outputs": [],
   "source": [
    "import numpy as np\n",
    "import cv2"
   ]
  },
  {
   "cell_type": "code",
   "execution_count": 3,
   "id": "492b5881-85ea-4047-a260-75ae998e5184",
   "metadata": {},
   "outputs": [],
   "source": [
    "cap = cv2.VideoCapture('traffic.mp4')"
   ]
  },
  {
   "cell_type": "code",
   "execution_count": 4,
   "id": "70fa020e-ee99-49aa-9037-492a7fed74cb",
   "metadata": {},
   "outputs": [],
   "source": [
    "# params for ShiTomasi corner detection\n",
    "feature_params = dict( maxCorners = 100, qualityLevel = 0.3, minDistance = 7, blockSize = 7)"
   ]
  },
  {
   "cell_type": "code",
   "execution_count": 5,
   "id": "4d65ef9c-be3d-464d-a45f-428f52b5d5e1",
   "metadata": {},
   "outputs": [],
   "source": [
    "# Parameters for lucas kanade optical flow\n",
    "lk_params = dict( winSize = (15,15), maxLevel = 2, \n",
    "    criteria = (cv2.TERM_CRITERIA_EPS | cv2.TERM_CRITERIA_COUNT, 10, 0.03))"
   ]
  },
  {
   "cell_type": "code",
   "execution_count": 6,
   "id": "01336fd7-ac33-4b56-b67e-bbbfeac8ef5b",
   "metadata": {},
   "outputs": [],
   "source": [
    "# Create some random colors\n",
    "color = np.random.randint(0,255,(100,3))"
   ]
  },
  {
   "cell_type": "code",
   "execution_count": 7,
   "id": "ab14bf34-0428-4f6a-82e5-cd9bbd37ec7a",
   "metadata": {},
   "outputs": [],
   "source": [
    "# Take first frame and find corners in it\n",
    "ret, old_frame = cap.read()\n",
    "old_gray = cv2.cvtColor(old_frame, cv2.COLOR_BGR2GRAY)\n",
    "p0 = cv2.goodFeaturesToTrack(old_gray, mask = None, **feature_params)"
   ]
  },
  {
   "cell_type": "code",
   "execution_count": 8,
   "id": "f6ae27fb-2363-4889-bdf9-046bb5b0b068",
   "metadata": {},
   "outputs": [],
   "source": [
    "# Create a mask image for drawing purposes\n",
    "mask = np.zeros_like(old_frame)"
   ]
  },
  {
   "cell_type": "code",
   "execution_count": 9,
   "id": "84bc6eba-8109-4e59-bf89-c34d48c252b0",
   "metadata": {},
   "outputs": [
    {
     "data": {
      "text/plain": [
       "-1"
      ]
     },
     "execution_count": 9,
     "metadata": {},
     "output_type": "execute_result"
    }
   ],
   "source": [
    "while(1):\n",
    "    ret,frame = cap.read()\n",
    "    frame_gray = cv2.cvtColor(frame, cv2.COLOR_BGR2GRAY)\n",
    "    \n",
    "    # calculate optical flow\n",
    "    p1, st, err = cv2.calcOpticalFlowPyrLK(old_gray, frame_gray, p0, None, **lk_params)\n",
    "    \n",
    "    # Select good points\n",
    "    good_new = p1[st==1]\n",
    "    good_old = p0[st==1]\n",
    "    \n",
    "    # draw the tracks\n",
    "    for i,(new,old) in enumerate(zip(good_new,good_old)):\n",
    "        a,b = new.ravel()\n",
    "        c,d = old.ravel()\n",
    "        mask = cv2.line(mask, (int(a),int(b)),(int(c),int(d)), color[i].tolist(), 2)\n",
    "        frame = cv2.circle(frame,(int(a),int(b)),5,color[i].tolist(),-1)\n",
    "\n",
    "    img = cv2.add(frame,mask)\n",
    "    cv2.imshow('frame',img)\n",
    "    k = cv2.waitKey(30) & 0xff\n",
    "    if k == 27:\n",
    "        break\n",
    "    # Now update the previous frame and previous points\n",
    "    old_gray = frame_gray.copy()\n",
    "    p0 = good_new.reshape(-1,1,2)\n",
    "    \n",
    "cv2.destroyAllWindows()\n",
    "cap.release()\n",
    "cv2.waitKey(1)"
   ]
  },
  {
   "cell_type": "markdown",
   "id": "282c7ef4-b1e9-4806-ab26-91d475fd4557",
   "metadata": {},
   "source": [
    "## Dense Optical Flow in OpenCV"
   ]
  },
  {
   "cell_type": "code",
   "execution_count": 10,
   "id": "6113d50c-2225-437f-8224-f01741484504",
   "metadata": {},
   "outputs": [],
   "source": [
    "import cv2\n",
    "import numpy as np"
   ]
  },
  {
   "cell_type": "code",
   "execution_count": 11,
   "id": "e7b3cf76-7e52-49d8-af7f-d906784b75e7",
   "metadata": {},
   "outputs": [],
   "source": [
    "cap = cv2.VideoCapture('traffic.mp4')"
   ]
  },
  {
   "cell_type": "code",
   "execution_count": 12,
   "id": "756a991d-f7c1-4a5c-8f8b-34612d1ece8c",
   "metadata": {},
   "outputs": [],
   "source": [
    "ret, frame1 = cap.read()\n",
    "prvs = cv2.cvtColor(frame1,cv2.COLOR_BGR2GRAY)\n",
    "hsv = np.zeros_like(frame1)\n",
    "hsv[...,1] = 255"
   ]
  },
  {
   "cell_type": "code",
   "execution_count": null,
   "id": "b7471494-6aa2-4cd2-acb2-67cbbad9cbc7",
   "metadata": {},
   "outputs": [],
   "source": []
  }
 ],
 "metadata": {
  "kernelspec": {
   "display_name": "Python 3",
   "language": "python",
   "name": "python3"
  },
  "language_info": {
   "codemirror_mode": {
    "name": "ipython",
    "version": 3
   },
   "file_extension": ".py",
   "mimetype": "text/x-python",
   "name": "python",
   "nbconvert_exporter": "python",
   "pygments_lexer": "ipython3",
   "version": "3.9.4"
  }
 },
 "nbformat": 4,
 "nbformat_minor": 5
}
