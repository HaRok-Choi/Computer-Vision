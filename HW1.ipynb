{
 "cells": [
  {
   "cell_type": "code",
   "execution_count": 1,
   "id": "20734af1-d261-4cc7-93d1-1052cbe194b3",
   "metadata": {},
   "outputs": [],
   "source": [
    "# 20171615 최하록"
   ]
  },
  {
   "cell_type": "markdown",
   "id": "0d41c76c-8b3c-4baf-86c3-1b822a317ee0",
   "metadata": {},
   "source": [
    "## HW1"
   ]
  },
  {
   "cell_type": "code",
   "execution_count": 2,
   "id": "892ad0df-588a-4302-99d0-84bf4a20b6ad",
   "metadata": {},
   "outputs": [],
   "source": [
    "import cv2\n",
    "import numpy as np"
   ]
  },
  {
   "cell_type": "code",
   "execution_count": 3,
   "id": "e4d9e8e5-c1dd-4ea5-9dd3-12a64b192f70",
   "metadata": {},
   "outputs": [],
   "source": [
    "def nothing(x):\n",
    "    pass"
   ]
  },
  {
   "cell_type": "code",
   "execution_count": 4,
   "id": "27ec98ae-2c2b-480b-b892-ea339b74461c",
   "metadata": {},
   "outputs": [],
   "source": [
    "drawing = False\n",
    "ix, iy = -1, -1\n",
    "\n",
    "def draw_rectangle(event, x, y, flags, param):\n",
    "    global ix, iy, drawing, img\n",
    "    \n",
    "    text = \"Mouse position (\" + str(ix) + \",\" + str(iy) + \") - (\" + str(x) + \",\" + str(y) + \")\"\n",
    "    \n",
    "    if event == cv2.EVENT_LBUTTONDOWN:\n",
    "        drawing = True\n",
    "        ix, iy = x, y\n",
    "    elif event == cv2.EVENT_MOUSEMOVE:\n",
    "        if drawing == True:\n",
    "            img = cv2.imread('image4.jpg')\n",
    "            cv2.rectangle(img, (ix, iy), (x, y), (0, 0, 255), -1)\n",
    "                \n",
    "    elif event == cv2.EVENT_LBUTTONUP:\n",
    "        drawing = False\n",
    "        cv2.rectangle(img, (ix, iy), (x, y), (0, 0, 255), -1)\n",
    "        cv2.putText(img, text, (10, 55), cv2.FONT_HERSHEY_SIMPLEX, 2, (255, 255, 255), 0, cv2.LINE_AA)"
   ]
  },
  {
   "cell_type": "code",
   "execution_count": 5,
   "id": "f41e7fb4-5351-4b51-8338-2001e931cbda",
   "metadata": {},
   "outputs": [],
   "source": [
    "img = cv2.imread('image4.jpg')\n",
    "cv2.namedWindow('Homework_01')"
   ]
  },
  {
   "cell_type": "code",
   "execution_count": 6,
   "id": "070a5917-5d45-4a45-b58c-06a131496d6d",
   "metadata": {},
   "outputs": [],
   "source": [
    "cv2.createTrackbar('value', 'Homework_01', 0, 255, nothing)"
   ]
  },
  {
   "cell_type": "code",
   "execution_count": 7,
   "id": "2e6edc3b-2027-4258-b86d-dab3d9cec326",
   "metadata": {},
   "outputs": [],
   "source": [
    "cv2.setMouseCallback('Homework_01', draw_rectangle)"
   ]
  },
  {
   "cell_type": "code",
   "execution_count": null,
   "id": "8984a75d-d534-4f6f-925d-cc4d5dc6b822",
   "metadata": {},
   "outputs": [],
   "source": [
    "while(1):\n",
    "    cv2.imshow('Homework_01', img)\n",
    "    k = cv2.waitKey(1) & 0xFF\n",
    "    if k == 27:\n",
    "        break\n",
    "        \n",
    "cv2.destroyAllWindows()\n",
    "cv2.waitKey(1)"
   ]
  },
  {
   "cell_type": "code",
   "execution_count": null,
   "id": "251a3de8-9e6b-4109-8d3d-e8f01c14d1cd",
   "metadata": {},
   "outputs": [],
   "source": []
  }
 ],
 "metadata": {
  "kernelspec": {
   "display_name": "Python 3",
   "language": "python",
   "name": "python3"
  },
  "language_info": {
   "codemirror_mode": {
    "name": "ipython",
    "version": 3
   },
   "file_extension": ".py",
   "mimetype": "text/x-python",
   "name": "python",
   "nbconvert_exporter": "python",
   "pygments_lexer": "ipython3",
   "version": "3.9.4"
  }
 },
 "nbformat": 4,
 "nbformat_minor": 5
}
