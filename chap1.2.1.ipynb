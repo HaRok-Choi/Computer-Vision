{
 "cells": [
  {
   "cell_type": "markdown",
   "id": "316a7d15-f4a9-4228-aa7c-23b2178c6b12",
   "metadata": {},
   "source": [
    "## chap 1.2.1"
   ]
  },
  {
   "cell_type": "code",
   "execution_count": 1,
   "id": "a7a5a8d0-d236-4594-8d49-37a5c520984a",
   "metadata": {},
   "outputs": [],
   "source": [
    "import numpy as np\n",
    "import cv2"
   ]
  },
  {
   "cell_type": "code",
   "execution_count": 2,
   "id": "79fe62ed-5651-4a84-b043-cab4e2d76240",
   "metadata": {},
   "outputs": [],
   "source": [
    "img = cv2.imread('dog.jpg',0)\n",
    "cv2.imshow('image',img)\n",
    "cv2.waitKey(0)\n",
    "cv2.destroyAllWindows()"
   ]
  },
  {
   "cell_type": "code",
   "execution_count": null,
   "id": "0d06a61d-e246-424c-a690-f4a21b29c8c0",
   "metadata": {},
   "outputs": [],
   "source": [
    "img = cv2.imread('dog.jpg',0)\n",
    "cv2.imshow('image',img)\n",
    "k = cv2.waitKey(0)\n",
    "if k == 27: # wait for ESC key to exit\n",
    "    cv2.destroyAllWindows()\n",
    "elif k == ord('s'): # wait for 's' key to save and exit\n",
    "    cv2.imwrite('dog.png',img)\n",
    "    cv2.destroyAllWindows()"
   ]
  },
  {
   "cell_type": "code",
   "execution_count": null,
   "id": "30935c30-4ba0-41d0-a907-1d962fdce957",
   "metadata": {},
   "outputs": [],
   "source": []
  }
 ],
 "metadata": {
  "kernelspec": {
   "display_name": "Python 3",
   "language": "python",
   "name": "python3"
  },
  "language_info": {
   "codemirror_mode": {
    "name": "ipython",
    "version": 3
   },
   "file_extension": ".py",
   "mimetype": "text/x-python",
   "name": "python",
   "nbconvert_exporter": "python",
   "pygments_lexer": "ipython3",
   "version": "3.9.4"
  }
 },
 "nbformat": 4,
 "nbformat_minor": 5
}
